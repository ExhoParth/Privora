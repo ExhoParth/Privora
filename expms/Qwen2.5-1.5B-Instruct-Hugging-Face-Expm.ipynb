{
 "cells": [
  {
   "cell_type": "markdown",
   "metadata": {},
   "source": [
    "**Sources**\n",
    "* [Hugging Face x LangChain: A new partner package in LangChain](https://huggingface.co/blog/langchain)\n",
    "* [Hugging Face x LangChain](https://python.langchain.com/docs/integrations/providers/huggingface/)"
   ]
  },
  {
   "cell_type": "code",
   "execution_count": null,
   "metadata": {},
   "outputs": [
    {
     "data": {
      "text/plain": [
       "'Hugging Face is a company that provides tools for natural language processing (NLP). They have developed a model called `transformers` which can be used to train and use various NLP models. One of the features of this model is its ability to handle different types of data, including text.\\n\\nSuppose you are working on a project where you need to analyze a large dataset containing sentences in multiple languages. You decide to use the `transformers` library to preprocess these sentences before feeding them into your machine learning model'"
      ]
     },
     "execution_count": 1,
     "metadata": {},
     "output_type": "execute_result"
    }
   ],
   "source": [
    "from langchain_huggingface import HuggingFacePipeline # type: ignore\n",
    "\n",
    "# https://huggingface.co/Qwen/Qwen2.5-1.5B-Instruct\n",
    "llm = HuggingFacePipeline.from_model_id(\n",
    "    model_id=\"Qwen/Qwen2.5-1.5B-Instruct\",\n",
    "    task=\"text-generation\",\n",
    "    pipeline_kwargs={\n",
    "        \"max_new_tokens\": 100,\n",
    "        \"top_k\": 50,\n",
    "        \"temperature\": 0.1,\n",
    "    },\n",
    ")\n",
    "llm.invoke(\"Hugging Face is\")"
   ]
  },
  {
   "cell_type": "code",
   "execution_count": 2,
   "metadata": {},
   "outputs": [
    {
     "name": "stdout",
     "output_type": "stream",
     "text": [
      "CPU times: total: 2min 49s\n",
      "Wall time: 36.5 s\n"
     ]
    },
    {
     "data": {
      "text/plain": [
       "'Hello, How\\'s it going? I\\'m a bit confused about the difference between \"I am\" and \"I have\". Can you explain to me in detail?\\nCertainly! The words \"I am\" and \"I have\" are both used to express possession or action, but they differ slightly in their usage.\\n\\n1. **I am**: This phrase is used when you want to indicate that something belongs to you or describes your current state. It can be used for any noun or pronoun. For example:\\n   - \"I'"
      ]
     },
     "execution_count": 2,
     "metadata": {},
     "output_type": "execute_result"
    }
   ],
   "source": [
    "%%time\n",
    "llm.invoke(\"Hello, How's it going?\")"
   ]
  },
  {
   "cell_type": "code",
   "execution_count": 3,
   "metadata": {},
   "outputs": [
    {
     "name": "stdout",
     "output_type": "stream",
     "text": [
      "31.4 s ± 2.14 s per loop (mean ± std. dev. of 7 runs, 1 loop each)\n"
     ]
    }
   ],
   "source": [
    "%%timeit\n",
    "llm.invoke(\"Who are you?\")"
   ]
  },
  {
   "cell_type": "code",
   "execution_count": null,
   "metadata": {},
   "outputs": [],
   "source": []
  }
 ],
 "metadata": {
  "kernelspec": {
   "display_name": "venv",
   "language": "python",
   "name": "python3"
  },
  "language_info": {
   "codemirror_mode": {
    "name": "ipython",
    "version": 3
   },
   "file_extension": ".py",
   "mimetype": "text/x-python",
   "name": "python",
   "nbconvert_exporter": "python",
   "pygments_lexer": "ipython3",
   "version": "3.12.1"
  }
 },
 "nbformat": 4,
 "nbformat_minor": 2
}
